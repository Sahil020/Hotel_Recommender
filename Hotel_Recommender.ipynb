{
 "cells": [
  {
   "cell_type": "code",
   "execution_count": 1,
   "metadata": {},
   "outputs": [],
   "source": [
    "import pandas as pd\n",
    "import numpy as np"
   ]
  },
  {
   "cell_type": "code",
   "execution_count": 2,
   "metadata": {},
   "outputs": [],
   "source": [
    "df1 = pd.read_csv('Hotel_details.csv')\n",
    "df2 = pd.read_csv('Hotel_Room_attributes.csv')\n",
    "df3 = pd.read_csv('hotel_price_min_max - Formula.csv')\n",
    "df4 = pd.read_csv('hotels_RoomPrice.csv')"
   ]
  },
  {
   "cell_type": "code",
   "execution_count": 3,
   "metadata": {},
   "outputs": [
    {
     "data": {
      "text/html": [
       "<div>\n",
       "<style scoped>\n",
       "    .dataframe tbody tr th:only-of-type {\n",
       "        vertical-align: middle;\n",
       "    }\n",
       "\n",
       "    .dataframe tbody tr th {\n",
       "        vertical-align: top;\n",
       "    }\n",
       "\n",
       "    .dataframe thead th {\n",
       "        text-align: right;\n",
       "    }\n",
       "</style>\n",
       "<table border=\"1\" class=\"dataframe\">\n",
       "  <thead>\n",
       "    <tr style=\"text-align: right;\">\n",
       "      <th></th>\n",
       "      <th>id</th>\n",
       "      <th>hotelid</th>\n",
       "      <th>hotelname</th>\n",
       "      <th>address</th>\n",
       "      <th>city</th>\n",
       "      <th>country</th>\n",
       "      <th>zipcode</th>\n",
       "      <th>propertytype</th>\n",
       "      <th>starrating</th>\n",
       "      <th>latitude</th>\n",
       "      <th>longitude</th>\n",
       "      <th>Source</th>\n",
       "      <th>url</th>\n",
       "      <th>curr</th>\n",
       "    </tr>\n",
       "  </thead>\n",
       "  <tbody>\n",
       "    <tr>\n",
       "      <th>0</th>\n",
       "      <td>46406</td>\n",
       "      <td>1771651</td>\n",
       "      <td>Mediteran Bungalow Galeb</td>\n",
       "      <td>Vukovarska 7</td>\n",
       "      <td>Omis</td>\n",
       "      <td>Croatia</td>\n",
       "      <td>21310.0</td>\n",
       "      <td>Holiday parks</td>\n",
       "      <td>4</td>\n",
       "      <td>43.440124</td>\n",
       "      <td>16.682505</td>\n",
       "      <td>2</td>\n",
       "      <td>https://www.booking.com/hotel/hr/bungalow-luxu...</td>\n",
       "      <td>EUR</td>\n",
       "    </tr>\n",
       "    <tr>\n",
       "      <th>1</th>\n",
       "      <td>46407</td>\n",
       "      <td>177167</td>\n",
       "      <td>Hotel Polonia</td>\n",
       "      <td>Plac Teatralny 5</td>\n",
       "      <td>Torun</td>\n",
       "      <td>Poland</td>\n",
       "      <td>NaN</td>\n",
       "      <td>Hotels</td>\n",
       "      <td>3</td>\n",
       "      <td>53.012329</td>\n",
       "      <td>18.603800</td>\n",
       "      <td>5</td>\n",
       "      <td>https://www.agoda.com/en-gb/hotel-polonia/hote...</td>\n",
       "      <td>EUR</td>\n",
       "    </tr>\n",
       "    <tr>\n",
       "      <th>2</th>\n",
       "      <td>46408</td>\n",
       "      <td>1771675</td>\n",
       "      <td>Rifugio Sass Bece</td>\n",
       "      <td>Belvedere del Pordoi,1</td>\n",
       "      <td>Canazei</td>\n",
       "      <td>Italy</td>\n",
       "      <td>38032.0</td>\n",
       "      <td>Hotels</td>\n",
       "      <td>3</td>\n",
       "      <td>46.477920</td>\n",
       "      <td>11.813350</td>\n",
       "      <td>2</td>\n",
       "      <td>http://www.booking.com/hotel/it/rifugio-sass-b...</td>\n",
       "      <td>EUR</td>\n",
       "    </tr>\n",
       "    <tr>\n",
       "      <th>3</th>\n",
       "      <td>46409</td>\n",
       "      <td>177168</td>\n",
       "      <td>Madalena Hotel</td>\n",
       "      <td>Mykonos</td>\n",
       "      <td>Mykonos</td>\n",
       "      <td>Greece</td>\n",
       "      <td>84600.0</td>\n",
       "      <td>Hotels</td>\n",
       "      <td>3</td>\n",
       "      <td>37.452316</td>\n",
       "      <td>25.329849</td>\n",
       "      <td>5</td>\n",
       "      <td>https://www.agoda.com/en-gb/madalena-hotel/hot...</td>\n",
       "      <td>EUR</td>\n",
       "    </tr>\n",
       "    <tr>\n",
       "      <th>4</th>\n",
       "      <td>46410</td>\n",
       "      <td>1771718</td>\n",
       "      <td>Pension Morenfeld</td>\n",
       "      <td>Mair im Korn Strasse 2</td>\n",
       "      <td>Lagundo</td>\n",
       "      <td>Italy</td>\n",
       "      <td>39022.0</td>\n",
       "      <td>Hotels</td>\n",
       "      <td>3</td>\n",
       "      <td>46.682780</td>\n",
       "      <td>11.131736</td>\n",
       "      <td>2</td>\n",
       "      <td>http://www.booking.com/hotel/it/pension-morenf...</td>\n",
       "      <td>EUR</td>\n",
       "    </tr>\n",
       "  </tbody>\n",
       "</table>\n",
       "</div>"
      ],
      "text/plain": [
       "      id  hotelid                 hotelname                 address     city  \\\n",
       "0  46406  1771651  Mediteran Bungalow Galeb            Vukovarska 7     Omis   \n",
       "1  46407   177167             Hotel Polonia        Plac Teatralny 5    Torun   \n",
       "2  46408  1771675         Rifugio Sass Bece  Belvedere del Pordoi,1  Canazei   \n",
       "3  46409   177168            Madalena Hotel                 Mykonos  Mykonos   \n",
       "4  46410  1771718         Pension Morenfeld  Mair im Korn Strasse 2  Lagundo   \n",
       "\n",
       "   country  zipcode   propertytype  starrating   latitude  longitude  Source  \\\n",
       "0  Croatia  21310.0  Holiday parks           4  43.440124  16.682505       2   \n",
       "1   Poland      NaN         Hotels           3  53.012329  18.603800       5   \n",
       "2    Italy  38032.0         Hotels           3  46.477920  11.813350       2   \n",
       "3   Greece  84600.0         Hotels           3  37.452316  25.329849       5   \n",
       "4    Italy  39022.0         Hotels           3  46.682780  11.131736       2   \n",
       "\n",
       "                                                 url curr  \n",
       "0  https://www.booking.com/hotel/hr/bungalow-luxu...  EUR  \n",
       "1  https://www.agoda.com/en-gb/hotel-polonia/hote...  EUR  \n",
       "2  http://www.booking.com/hotel/it/rifugio-sass-b...  EUR  \n",
       "3  https://www.agoda.com/en-gb/madalena-hotel/hot...  EUR  \n",
       "4  http://www.booking.com/hotel/it/pension-morenf...  EUR  "
      ]
     },
     "execution_count": 3,
     "metadata": {},
     "output_type": "execute_result"
    }
   ],
   "source": [
    "df1.head()"
   ]
  },
  {
   "cell_type": "code",
   "execution_count": 4,
   "metadata": {},
   "outputs": [
    {
     "data": {
      "text/plain": [
       "0         https://www.booking.com/hotel/hr/bungalow-luxu...\n",
       "1         https://www.agoda.com/en-gb/hotel-polonia/hote...\n",
       "2         http://www.booking.com/hotel/it/rifugio-sass-b...\n",
       "3         https://www.agoda.com/en-gb/madalena-hotel/hot...\n",
       "4         http://www.booking.com/hotel/it/pension-morenf...\n",
       "                                ...                        \n",
       "108043    http://www.booking.com/hotel/de/stadt-tuttling...\n",
       "108044     http://www.booking.com/hotel/bg/beroe.en-gb.html\n",
       "108045    http://www.booking.com/hotel/bg/rothmans-bansk...\n",
       "108046    https://www.booking.com/hotel/bg/rainbow-4-bou...\n",
       "108047    http://www.booking.com/hotel/bg/rainbow-2-caca...\n",
       "Name: url, Length: 108048, dtype: object"
      ]
     },
     "execution_count": 4,
     "metadata": {},
     "output_type": "execute_result"
    }
   ],
   "source": [
    "df1['url']"
   ]
  },
  {
   "cell_type": "code",
   "execution_count": 5,
   "metadata": {},
   "outputs": [],
   "source": [
    "df2.rename(columns = {'hotelcode':'hotelid'},inplace = True)"
   ]
  },
  {
   "cell_type": "code",
   "execution_count": 6,
   "metadata": {},
   "outputs": [],
   "source": [
    "df_new = df2.merge(df1,on = 'hotelid')"
   ]
  },
  {
   "cell_type": "code",
   "execution_count": 7,
   "metadata": {},
   "outputs": [
    {
     "data": {
      "text/html": [
       "<div>\n",
       "<style scoped>\n",
       "    .dataframe tbody tr th:only-of-type {\n",
       "        vertical-align: middle;\n",
       "    }\n",
       "\n",
       "    .dataframe tbody tr th {\n",
       "        vertical-align: top;\n",
       "    }\n",
       "\n",
       "    .dataframe thead th {\n",
       "        text-align: right;\n",
       "    }\n",
       "</style>\n",
       "<table border=\"1\" class=\"dataframe\">\n",
       "  <thead>\n",
       "    <tr style=\"text-align: right;\">\n",
       "      <th></th>\n",
       "      <th>id_x</th>\n",
       "      <th>hotelid</th>\n",
       "      <th>roomamenities</th>\n",
       "      <th>roomtype</th>\n",
       "      <th>ratedescription</th>\n",
       "      <th>id_y</th>\n",
       "      <th>hotelname</th>\n",
       "      <th>address</th>\n",
       "      <th>city</th>\n",
       "      <th>country</th>\n",
       "      <th>zipcode</th>\n",
       "      <th>propertytype</th>\n",
       "      <th>starrating</th>\n",
       "      <th>latitude</th>\n",
       "      <th>longitude</th>\n",
       "      <th>Source</th>\n",
       "      <th>url</th>\n",
       "      <th>curr</th>\n",
       "    </tr>\n",
       "  </thead>\n",
       "  <tbody>\n",
       "    <tr>\n",
       "      <th>0</th>\n",
       "      <td>50677497</td>\n",
       "      <td>634876</td>\n",
       "      <td>Air conditioning: ;Alarm clock: ;Carpeting: ;C...</td>\n",
       "      <td>Double Room</td>\n",
       "      <td>Room size: 15 m²/161 ft², Shower, 1 king bed</td>\n",
       "      <td>135972</td>\n",
       "      <td>The Old Cider House</td>\n",
       "      <td>25 Castle Street</td>\n",
       "      <td>Nether Stowey</td>\n",
       "      <td>United Kingdom</td>\n",
       "      <td>NaN</td>\n",
       "      <td>Hotels</td>\n",
       "      <td>4</td>\n",
       "      <td>51.150921</td>\n",
       "      <td>-3.158470</td>\n",
       "      <td>5</td>\n",
       "      <td>https://www.agoda.com/en-gb/the-old-cider-hous...</td>\n",
       "      <td>GBP</td>\n",
       "    </tr>\n",
       "    <tr>\n",
       "      <th>1</th>\n",
       "      <td>50672149</td>\n",
       "      <td>8328096</td>\n",
       "      <td>Air conditioning: ;Closet: ;Fireplace: ;Free W...</td>\n",
       "      <td>Vacation Home</td>\n",
       "      <td>Shower, Kitchenette, 2 bedrooms, 1 double bed ...</td>\n",
       "      <td>66727</td>\n",
       "      <td>Pantlleni</td>\n",
       "      <td>NaN</td>\n",
       "      <td>Beddgelert</td>\n",
       "      <td>United Kingdom</td>\n",
       "      <td>NaN</td>\n",
       "      <td>Hotels</td>\n",
       "      <td>3</td>\n",
       "      <td>53.042229</td>\n",
       "      <td>-4.033180</td>\n",
       "      <td>5</td>\n",
       "      <td>https://www.agoda.com/en-gb/pantlleni/hotel/be...</td>\n",
       "      <td>GBP</td>\n",
       "    </tr>\n",
       "    <tr>\n",
       "      <th>2</th>\n",
       "      <td>50643430</td>\n",
       "      <td>8323442</td>\n",
       "      <td>Air conditioning: ;Closet: ;Dishwasher: ;Firep...</td>\n",
       "      <td>Vacation Home</td>\n",
       "      <td>Shower, Kitchenette, 2 bedrooms, 1 double bed ...</td>\n",
       "      <td>65369</td>\n",
       "      <td>Willow Cottage</td>\n",
       "      <td>NaN</td>\n",
       "      <td>Beverley</td>\n",
       "      <td>United Kingdom</td>\n",
       "      <td>NaN</td>\n",
       "      <td>Hotels</td>\n",
       "      <td>3</td>\n",
       "      <td>53.843220</td>\n",
       "      <td>-0.497970</td>\n",
       "      <td>5</td>\n",
       "      <td>https://www.agoda.com/en-gb/willow-cottage/hot...</td>\n",
       "      <td>GBP</td>\n",
       "    </tr>\n",
       "    <tr>\n",
       "      <th>3</th>\n",
       "      <td>50650317</td>\n",
       "      <td>7975</td>\n",
       "      <td>Air conditioning: ;Clothes rack: ;Coffee/tea m...</td>\n",
       "      <td>Standard Triple Room</td>\n",
       "      <td>Room size: 20 m²/215 ft², Shower, 3 single beds</td>\n",
       "      <td>60309</td>\n",
       "      <td>Apollo Hotel London</td>\n",
       "      <td>64-66 Queensborough Terrace</td>\n",
       "      <td>London</td>\n",
       "      <td>United Kingdom</td>\n",
       "      <td>NaN</td>\n",
       "      <td>Hotels</td>\n",
       "      <td>2</td>\n",
       "      <td>51.511234</td>\n",
       "      <td>-0.185117</td>\n",
       "      <td>5</td>\n",
       "      <td>https://www.agoda.com/en-gb/apollo-hotel-londo...</td>\n",
       "      <td>GBP</td>\n",
       "    </tr>\n",
       "    <tr>\n",
       "      <th>4</th>\n",
       "      <td>50650318</td>\n",
       "      <td>7975</td>\n",
       "      <td>Air conditioning: ;Clothes rack: ;Coffee/tea m...</td>\n",
       "      <td>Standard Triple Room</td>\n",
       "      <td>Room size: 20 m²/215 ft², Shower, 3 single beds</td>\n",
       "      <td>60309</td>\n",
       "      <td>Apollo Hotel London</td>\n",
       "      <td>64-66 Queensborough Terrace</td>\n",
       "      <td>London</td>\n",
       "      <td>United Kingdom</td>\n",
       "      <td>NaN</td>\n",
       "      <td>Hotels</td>\n",
       "      <td>2</td>\n",
       "      <td>51.511234</td>\n",
       "      <td>-0.185117</td>\n",
       "      <td>5</td>\n",
       "      <td>https://www.agoda.com/en-gb/apollo-hotel-londo...</td>\n",
       "      <td>GBP</td>\n",
       "    </tr>\n",
       "  </tbody>\n",
       "</table>\n",
       "</div>"
      ],
      "text/plain": [
       "       id_x  hotelid                                      roomamenities  \\\n",
       "0  50677497   634876  Air conditioning: ;Alarm clock: ;Carpeting: ;C...   \n",
       "1  50672149  8328096  Air conditioning: ;Closet: ;Fireplace: ;Free W...   \n",
       "2  50643430  8323442  Air conditioning: ;Closet: ;Dishwasher: ;Firep...   \n",
       "3  50650317     7975  Air conditioning: ;Clothes rack: ;Coffee/tea m...   \n",
       "4  50650318     7975  Air conditioning: ;Clothes rack: ;Coffee/tea m...   \n",
       "\n",
       "               roomtype                                    ratedescription  \\\n",
       "0           Double Room       Room size: 15 m²/161 ft², Shower, 1 king bed   \n",
       "1         Vacation Home  Shower, Kitchenette, 2 bedrooms, 1 double bed ...   \n",
       "2         Vacation Home  Shower, Kitchenette, 2 bedrooms, 1 double bed ...   \n",
       "3  Standard Triple Room    Room size: 20 m²/215 ft², Shower, 3 single beds   \n",
       "4  Standard Triple Room    Room size: 20 m²/215 ft², Shower, 3 single beds   \n",
       "\n",
       "     id_y            hotelname                      address           city  \\\n",
       "0  135972  The Old Cider House             25 Castle Street  Nether Stowey   \n",
       "1   66727            Pantlleni                          NaN     Beddgelert   \n",
       "2   65369       Willow Cottage                          NaN       Beverley   \n",
       "3   60309  Apollo Hotel London  64-66 Queensborough Terrace         London   \n",
       "4   60309  Apollo Hotel London  64-66 Queensborough Terrace         London   \n",
       "\n",
       "          country  zipcode propertytype  starrating   latitude  longitude  \\\n",
       "0  United Kingdom      NaN       Hotels           4  51.150921  -3.158470   \n",
       "1  United Kingdom      NaN       Hotels           3  53.042229  -4.033180   \n",
       "2  United Kingdom      NaN       Hotels           3  53.843220  -0.497970   \n",
       "3  United Kingdom      NaN       Hotels           2  51.511234  -0.185117   \n",
       "4  United Kingdom      NaN       Hotels           2  51.511234  -0.185117   \n",
       "\n",
       "   Source                                                url curr  \n",
       "0       5  https://www.agoda.com/en-gb/the-old-cider-hous...  GBP  \n",
       "1       5  https://www.agoda.com/en-gb/pantlleni/hotel/be...  GBP  \n",
       "2       5  https://www.agoda.com/en-gb/willow-cottage/hot...  GBP  \n",
       "3       5  https://www.agoda.com/en-gb/apollo-hotel-londo...  GBP  \n",
       "4       5  https://www.agoda.com/en-gb/apollo-hotel-londo...  GBP  "
      ]
     },
     "execution_count": 7,
     "metadata": {},
     "output_type": "execute_result"
    }
   ],
   "source": [
    "df_new.head()"
   ]
  },
  {
   "cell_type": "code",
   "execution_count": 8,
   "metadata": {},
   "outputs": [
    {
     "data": {
      "text/plain": [
       "(181415, 18)"
      ]
     },
     "execution_count": 8,
     "metadata": {},
     "output_type": "execute_result"
    }
   ],
   "source": [
    "df_new.shape"
   ]
  },
  {
   "cell_type": "code",
   "execution_count": 9,
   "metadata": {},
   "outputs": [
    {
     "data": {
      "text/plain": [
       "id_x                   0\n",
       "hotelid                0\n",
       "roomamenities       5309\n",
       "roomtype               0\n",
       "ratedescription     5309\n",
       "id_y                   0\n",
       "hotelname              0\n",
       "address              577\n",
       "city                   0\n",
       "country                0\n",
       "zipcode            86703\n",
       "propertytype           0\n",
       "starrating             0\n",
       "latitude               0\n",
       "longitude              0\n",
       "Source                 0\n",
       "url                    0\n",
       "curr                   0\n",
       "dtype: int64"
      ]
     },
     "execution_count": 9,
     "metadata": {},
     "output_type": "execute_result"
    }
   ],
   "source": [
    "df_new.isna().sum()"
   ]
  },
  {
   "cell_type": "code",
   "execution_count": 10,
   "metadata": {},
   "outputs": [
    {
     "data": {
      "text/plain": [
       "0"
      ]
     },
     "execution_count": 10,
     "metadata": {},
     "output_type": "execute_result"
    }
   ],
   "source": [
    "df_new.duplicated().sum()"
   ]
  },
  {
   "cell_type": "code",
   "execution_count": 11,
   "metadata": {},
   "outputs": [],
   "source": [
    "df_new.drop(['zipcode'],axis = 1,inplace = True)"
   ]
  },
  {
   "cell_type": "code",
   "execution_count": 12,
   "metadata": {},
   "outputs": [],
   "source": [
    "df_new.dropna(inplace = True)"
   ]
  },
  {
   "cell_type": "code",
   "execution_count": 13,
   "metadata": {},
   "outputs": [],
   "source": [
    "df3.rename(columns  = {'hotelcode':'hotelid'},inplace = True)"
   ]
  },
  {
   "cell_type": "code",
   "execution_count": 14,
   "metadata": {},
   "outputs": [],
   "source": [
    "pd.set_option('display.max_columns',30)"
   ]
  },
  {
   "cell_type": "code",
   "execution_count": 15,
   "metadata": {},
   "outputs": [
    {
     "data": {
      "text/html": [
       "<div>\n",
       "<style scoped>\n",
       "    .dataframe tbody tr th:only-of-type {\n",
       "        vertical-align: middle;\n",
       "    }\n",
       "\n",
       "    .dataframe tbody tr th {\n",
       "        vertical-align: top;\n",
       "    }\n",
       "\n",
       "    .dataframe thead th {\n",
       "        text-align: right;\n",
       "    }\n",
       "</style>\n",
       "<table border=\"1\" class=\"dataframe\">\n",
       "  <thead>\n",
       "    <tr style=\"text-align: right;\">\n",
       "      <th></th>\n",
       "      <th>id</th>\n",
       "      <th>refid</th>\n",
       "      <th>hotelcode</th>\n",
       "      <th>websitecode</th>\n",
       "      <th>dtcollected</th>\n",
       "      <th>ratedate</th>\n",
       "      <th>los</th>\n",
       "      <th>guests</th>\n",
       "      <th>roomtype</th>\n",
       "      <th>onsiterate</th>\n",
       "      <th>netrate</th>\n",
       "      <th>currency</th>\n",
       "      <th>ratedescription</th>\n",
       "      <th>ratetype</th>\n",
       "      <th>sourceurl</th>\n",
       "      <th>roomamenities</th>\n",
       "      <th>maxoccupancy</th>\n",
       "      <th>ispromo</th>\n",
       "      <th>closed</th>\n",
       "      <th>discount</th>\n",
       "      <th>promoname</th>\n",
       "      <th>status_code</th>\n",
       "      <th>taxstatus</th>\n",
       "      <th>taxtype</th>\n",
       "      <th>taxamount</th>\n",
       "      <th>proxyused</th>\n",
       "      <th>israteperstay</th>\n",
       "      <th>mealinclusiontype</th>\n",
       "      <th>hotelblock</th>\n",
       "      <th>input_dtcollected</th>\n",
       "    </tr>\n",
       "  </thead>\n",
       "  <tbody>\n",
       "    <tr>\n",
       "      <th>0</th>\n",
       "      <td>50677497</td>\n",
       "      <td>8646773</td>\n",
       "      <td>634876</td>\n",
       "      <td>5</td>\n",
       "      <td>2019-10-12 15:46:54</td>\n",
       "      <td>2019-11-02</td>\n",
       "      <td>1</td>\n",
       "      <td>1</td>\n",
       "      <td>Double Room</td>\n",
       "      <td>82.36</td>\n",
       "      <td>87.84</td>\n",
       "      <td>USD</td>\n",
       "      <td>Room size: 15 m²/161 ft², Shower, 1 king bed</td>\n",
       "      <td>Cancellation policy</td>\n",
       "      <td>https://www.agoda.com/en-gb/the-old-cider-hous...</td>\n",
       "      <td>Air conditioning: ;Alarm clock: ;Carpeting: ;C...</td>\n",
       "      <td>1</td>\n",
       "      <td>Y</td>\n",
       "      <td>N</td>\n",
       "      <td>6.24</td>\n",
       "      <td>NaN</td>\n",
       "      <td>200</td>\n",
       "      <td>2</td>\n",
       "      <td>NaN</td>\n",
       "      <td>0.0</td>\n",
       "      <td>media:M3diAproxy@173.44.165.126:80</td>\n",
       "      <td>Y</td>\n",
       "      <td>Free Breakfast</td>\n",
       "      <td>NaN</td>\n",
       "      <td>2019-10-13</td>\n",
       "    </tr>\n",
       "    <tr>\n",
       "      <th>1</th>\n",
       "      <td>50672149</td>\n",
       "      <td>6234691</td>\n",
       "      <td>8328096</td>\n",
       "      <td>5</td>\n",
       "      <td>2019-10-12 15:47:45</td>\n",
       "      <td>2019-11-30</td>\n",
       "      <td>1</td>\n",
       "      <td>1</td>\n",
       "      <td>Vacation Home</td>\n",
       "      <td>636.09</td>\n",
       "      <td>0.00</td>\n",
       "      <td>USD</td>\n",
       "      <td>Shower, Kitchenette, 2 bedrooms, 1 double bed ...</td>\n",
       "      <td>Cancellation policy</td>\n",
       "      <td>https://www.agoda.com/en-gb/pantlleni/hotel/be...</td>\n",
       "      <td>Air conditioning: ;Closet: ;Fireplace: ;Free W...</td>\n",
       "      <td>4</td>\n",
       "      <td>N</td>\n",
       "      <td>N</td>\n",
       "      <td>0.00</td>\n",
       "      <td>NaN</td>\n",
       "      <td>200</td>\n",
       "      <td>2</td>\n",
       "      <td>NaN</td>\n",
       "      <td>0.0</td>\n",
       "      <td>media:M3diAproxy@173.44.164.126:80</td>\n",
       "      <td>Y</td>\n",
       "      <td>NaN</td>\n",
       "      <td>NaN</td>\n",
       "      <td>2019-10-13</td>\n",
       "    </tr>\n",
       "    <tr>\n",
       "      <th>2</th>\n",
       "      <td>50643430</td>\n",
       "      <td>7015677</td>\n",
       "      <td>8323442</td>\n",
       "      <td>5</td>\n",
       "      <td>2019-10-12 15:47:00</td>\n",
       "      <td>2019-12-20</td>\n",
       "      <td>1</td>\n",
       "      <td>1</td>\n",
       "      <td>Vacation Home</td>\n",
       "      <td>591.74</td>\n",
       "      <td>0.00</td>\n",
       "      <td>USD</td>\n",
       "      <td>Shower, Kitchenette, 2 bedrooms, 1 double bed ...</td>\n",
       "      <td>Extra low price! (non-refundable)</td>\n",
       "      <td>https://www.agoda.com/en-gb/willow-cottage/hot...</td>\n",
       "      <td>Air conditioning: ;Closet: ;Dishwasher: ;Firep...</td>\n",
       "      <td>4</td>\n",
       "      <td>N</td>\n",
       "      <td>N</td>\n",
       "      <td>0.00</td>\n",
       "      <td>NaN</td>\n",
       "      <td>200</td>\n",
       "      <td>2</td>\n",
       "      <td>NaN</td>\n",
       "      <td>0.0</td>\n",
       "      <td>media:M3diAproxy@173.44.166.122:80</td>\n",
       "      <td>Y</td>\n",
       "      <td>NaN</td>\n",
       "      <td>NaN</td>\n",
       "      <td>2019-10-13</td>\n",
       "    </tr>\n",
       "    <tr>\n",
       "      <th>3</th>\n",
       "      <td>50650317</td>\n",
       "      <td>7327094</td>\n",
       "      <td>7975</td>\n",
       "      <td>5</td>\n",
       "      <td>2019-10-12 15:47:02</td>\n",
       "      <td>2019-12-28</td>\n",
       "      <td>1</td>\n",
       "      <td>1</td>\n",
       "      <td>Standard Triple Room</td>\n",
       "      <td>881.48</td>\n",
       "      <td>0.00</td>\n",
       "      <td>USD</td>\n",
       "      <td>Room size: 20 m²/215 ft², Shower, 3 single beds</td>\n",
       "      <td>Extra low price! (non-refundable)</td>\n",
       "      <td>https://www.agoda.com/en-gb/apollo-hotel-londo...</td>\n",
       "      <td>Air conditioning: ;Clothes rack: ;Coffee/tea m...</td>\n",
       "      <td>1</td>\n",
       "      <td>N</td>\n",
       "      <td>N</td>\n",
       "      <td>0.00</td>\n",
       "      <td>NaN</td>\n",
       "      <td>200</td>\n",
       "      <td>2</td>\n",
       "      <td>Tax 20%</td>\n",
       "      <td>0.0</td>\n",
       "      <td>media:M3diAproxy@209.242.219.141:80</td>\n",
       "      <td>Y</td>\n",
       "      <td>NaN</td>\n",
       "      <td>NaN</td>\n",
       "      <td>2019-10-13</td>\n",
       "    </tr>\n",
       "    <tr>\n",
       "      <th>4</th>\n",
       "      <td>50650318</td>\n",
       "      <td>7327094</td>\n",
       "      <td>7975</td>\n",
       "      <td>5</td>\n",
       "      <td>2019-10-12 15:47:02</td>\n",
       "      <td>2019-12-28</td>\n",
       "      <td>1</td>\n",
       "      <td>1</td>\n",
       "      <td>Standard Triple Room</td>\n",
       "      <td>897.53</td>\n",
       "      <td>0.00</td>\n",
       "      <td>USD</td>\n",
       "      <td>Room size: 20 m²/215 ft², Shower, 3 single beds</td>\n",
       "      <td>Extra low price! (non-refundable)</td>\n",
       "      <td>https://www.agoda.com/en-gb/apollo-hotel-londo...</td>\n",
       "      <td>Air conditioning: ;Clothes rack: ;Coffee/tea m...</td>\n",
       "      <td>3</td>\n",
       "      <td>N</td>\n",
       "      <td>N</td>\n",
       "      <td>0.00</td>\n",
       "      <td>NaN</td>\n",
       "      <td>200</td>\n",
       "      <td>2</td>\n",
       "      <td>VAT $ 179.51</td>\n",
       "      <td>0.0</td>\n",
       "      <td>media:M3diAproxy@209.242.219.141:80</td>\n",
       "      <td>Y</td>\n",
       "      <td>Free breakfast for {3}</td>\n",
       "      <td>NaN</td>\n",
       "      <td>2019-10-13</td>\n",
       "    </tr>\n",
       "  </tbody>\n",
       "</table>\n",
       "</div>"
      ],
      "text/plain": [
       "         id    refid  hotelcode  websitecode          dtcollected    ratedate  \\\n",
       "0  50677497  8646773     634876            5  2019-10-12 15:46:54  2019-11-02   \n",
       "1  50672149  6234691    8328096            5  2019-10-12 15:47:45  2019-11-30   \n",
       "2  50643430  7015677    8323442            5  2019-10-12 15:47:00  2019-12-20   \n",
       "3  50650317  7327094       7975            5  2019-10-12 15:47:02  2019-12-28   \n",
       "4  50650318  7327094       7975            5  2019-10-12 15:47:02  2019-12-28   \n",
       "\n",
       "   los  guests              roomtype  onsiterate  netrate currency  \\\n",
       "0    1       1           Double Room       82.36    87.84      USD   \n",
       "1    1       1         Vacation Home      636.09     0.00      USD   \n",
       "2    1       1         Vacation Home      591.74     0.00      USD   \n",
       "3    1       1  Standard Triple Room      881.48     0.00      USD   \n",
       "4    1       1  Standard Triple Room      897.53     0.00      USD   \n",
       "\n",
       "                                     ratedescription  \\\n",
       "0       Room size: 15 m²/161 ft², Shower, 1 king bed   \n",
       "1  Shower, Kitchenette, 2 bedrooms, 1 double bed ...   \n",
       "2  Shower, Kitchenette, 2 bedrooms, 1 double bed ...   \n",
       "3    Room size: 20 m²/215 ft², Shower, 3 single beds   \n",
       "4    Room size: 20 m²/215 ft², Shower, 3 single beds   \n",
       "\n",
       "                            ratetype  \\\n",
       "0                Cancellation policy   \n",
       "1                Cancellation policy   \n",
       "2  Extra low price! (non-refundable)   \n",
       "3  Extra low price! (non-refundable)   \n",
       "4  Extra low price! (non-refundable)   \n",
       "\n",
       "                                           sourceurl  \\\n",
       "0  https://www.agoda.com/en-gb/the-old-cider-hous...   \n",
       "1  https://www.agoda.com/en-gb/pantlleni/hotel/be...   \n",
       "2  https://www.agoda.com/en-gb/willow-cottage/hot...   \n",
       "3  https://www.agoda.com/en-gb/apollo-hotel-londo...   \n",
       "4  https://www.agoda.com/en-gb/apollo-hotel-londo...   \n",
       "\n",
       "                                       roomamenities  maxoccupancy ispromo  \\\n",
       "0  Air conditioning: ;Alarm clock: ;Carpeting: ;C...             1       Y   \n",
       "1  Air conditioning: ;Closet: ;Fireplace: ;Free W...             4       N   \n",
       "2  Air conditioning: ;Closet: ;Dishwasher: ;Firep...             4       N   \n",
       "3  Air conditioning: ;Clothes rack: ;Coffee/tea m...             1       N   \n",
       "4  Air conditioning: ;Clothes rack: ;Coffee/tea m...             3       N   \n",
       "\n",
       "  closed  discount promoname  status_code  taxstatus       taxtype  taxamount  \\\n",
       "0      N      6.24       NaN          200          2           NaN        0.0   \n",
       "1      N      0.00       NaN          200          2           NaN        0.0   \n",
       "2      N      0.00       NaN          200          2           NaN        0.0   \n",
       "3      N      0.00       NaN          200          2       Tax 20%        0.0   \n",
       "4      N      0.00       NaN          200          2  VAT $ 179.51        0.0   \n",
       "\n",
       "                             proxyused israteperstay       mealinclusiontype  \\\n",
       "0   media:M3diAproxy@173.44.165.126:80             Y          Free Breakfast   \n",
       "1   media:M3diAproxy@173.44.164.126:80             Y                     NaN   \n",
       "2   media:M3diAproxy@173.44.166.122:80             Y                     NaN   \n",
       "3  media:M3diAproxy@209.242.219.141:80             Y                     NaN   \n",
       "4  media:M3diAproxy@209.242.219.141:80             Y  Free breakfast for {3}   \n",
       "\n",
       "  hotelblock input_dtcollected  \n",
       "0        NaN        2019-10-13  \n",
       "1        NaN        2019-10-13  \n",
       "2        NaN        2019-10-13  \n",
       "3        NaN        2019-10-13  \n",
       "4        NaN        2019-10-13  "
      ]
     },
     "execution_count": 15,
     "metadata": {},
     "output_type": "execute_result"
    }
   ],
   "source": [
    "df4.head()"
   ]
  },
  {
   "cell_type": "code",
   "execution_count": 16,
   "metadata": {},
   "outputs": [],
   "source": [
    "df6 = df_new.merge(df3,on = 'hotelid')"
   ]
  },
  {
   "cell_type": "code",
   "execution_count": 17,
   "metadata": {},
   "outputs": [
    {
     "data": {
      "text/plain": [
       "0"
      ]
     },
     "execution_count": 17,
     "metadata": {},
     "output_type": "execute_result"
    }
   ],
   "source": [
    "df6.duplicated().sum()"
   ]
  },
  {
   "cell_type": "code",
   "execution_count": 18,
   "metadata": {},
   "outputs": [],
   "source": [
    "df = df6"
   ]
  },
  {
   "cell_type": "code",
   "execution_count": 19,
   "metadata": {},
   "outputs": [
    {
     "data": {
      "text/plain": [
       "(175544, 22)"
      ]
     },
     "execution_count": 19,
     "metadata": {},
     "output_type": "execute_result"
    }
   ],
   "source": [
    "df.shape"
   ]
  },
  {
   "cell_type": "code",
   "execution_count": 20,
   "metadata": {},
   "outputs": [],
   "source": [
    "df.drop(['id_y','latitude','longitude','Source','curr'],axis = 1,inplace = True)"
   ]
  },
  {
   "cell_type": "code",
   "execution_count": 21,
   "metadata": {},
   "outputs": [],
   "source": [
    "df.rename(columns = {'id_x':'id'},inplace = True)"
   ]
  },
  {
   "cell_type": "code",
   "execution_count": 22,
   "metadata": {},
   "outputs": [
    {
     "data": {
      "text/plain": [
       "0"
      ]
     },
     "execution_count": 22,
     "metadata": {},
     "output_type": "execute_result"
    }
   ],
   "source": [
    "df.duplicated().sum()"
   ]
  },
  {
   "cell_type": "code",
   "execution_count": 23,
   "metadata": {},
   "outputs": [],
   "source": [
    "indices = df[df['id'].duplicated()].index"
   ]
  },
  {
   "cell_type": "code",
   "execution_count": 24,
   "metadata": {},
   "outputs": [],
   "source": [
    "df.drop(index = indices,inplace = True)"
   ]
  },
  {
   "cell_type": "code",
   "execution_count": 25,
   "metadata": {},
   "outputs": [
    {
     "data": {
      "text/plain": [
       "0"
      ]
     },
     "execution_count": 25,
     "metadata": {},
     "output_type": "execute_result"
    }
   ],
   "source": [
    "df['id'].duplicated().sum()"
   ]
  },
  {
   "cell_type": "code",
   "execution_count": 26,
   "metadata": {},
   "outputs": [
    {
     "data": {
      "text/plain": [
       "(160438, 17)"
      ]
     },
     "execution_count": 26,
     "metadata": {},
     "output_type": "execute_result"
    }
   ],
   "source": [
    "df.shape"
   ]
  },
  {
   "cell_type": "code",
   "execution_count": 27,
   "metadata": {},
   "outputs": [
    {
     "data": {
      "text/plain": [
       "0"
      ]
     },
     "execution_count": 27,
     "metadata": {},
     "output_type": "execute_result"
    }
   ],
   "source": [
    "df.duplicated().sum()"
   ]
  },
  {
   "cell_type": "code",
   "execution_count": 28,
   "metadata": {},
   "outputs": [],
   "source": [
    "# Cleaning"
   ]
  },
  {
   "cell_type": "code",
   "execution_count": 29,
   "metadata": {},
   "outputs": [],
   "source": [
    "def remove_whitespace(text):\n",
    "   return  text.replace(' ','')"
   ]
  },
  {
   "cell_type": "code",
   "execution_count": 30,
   "metadata": {},
   "outputs": [
    {
     "data": {
      "text/plain": [
       "'Air conditioning: ;Alarm clock: ;Carpeting: ;Closet: ;Coffee/tea maker: ;Desk: ;DVD/CD player: ;Fan: ;Free Wi-Fi in all rooms!: ;Hair dryer: ;Heating: ;In-room safe box: ;Ironing facilities: ;Linens: ;Mini bar: ;Seating area: ;Toiletries: ;Towels: ;TV [flat screen]: ;'"
      ]
     },
     "execution_count": 30,
     "metadata": {},
     "output_type": "execute_result"
    }
   ],
   "source": [
    "df['roomamenities'][0]"
   ]
  },
  {
   "cell_type": "code",
   "execution_count": 31,
   "metadata": {},
   "outputs": [],
   "source": [
    "df['roomamenities_tag'] = df['roomamenities'].apply(lambda x:x.replace(': ;',','))"
   ]
  },
  {
   "cell_type": "code",
   "execution_count": 32,
   "metadata": {},
   "outputs": [],
   "source": [
    "df['roomamenities_tag'] = df['roomamenities_tag'].apply(remove_whitespace)"
   ]
  },
  {
   "cell_type": "code",
   "execution_count": 33,
   "metadata": {},
   "outputs": [],
   "source": [
    "df['roomamenities_tag'] = df['roomamenities_tag'].apply(lambda x:x.split(','))"
   ]
  },
  {
   "cell_type": "code",
   "execution_count": 34,
   "metadata": {},
   "outputs": [
    {
     "data": {
      "text/plain": [
       "['Airconditioning',\n",
       " 'FreeWi-Fiinallrooms!',\n",
       " 'In-roomsafebox',\n",
       " 'Shower',\n",
       " 'TV',\n",
       " '']"
      ]
     },
     "execution_count": 34,
     "metadata": {},
     "output_type": "execute_result"
    }
   ],
   "source": [
    "df['roomamenities_tag'][66071]"
   ]
  },
  {
   "cell_type": "code",
   "execution_count": 35,
   "metadata": {},
   "outputs": [
    {
     "data": {
      "text/plain": [
       "0                  Double Room\n",
       "1         Standard Triple Room\n",
       "2         Standard Triple Room\n",
       "3         Standard Triple Room\n",
       "4           Deluxe Triple Room\n",
       "                  ...         \n",
       "175539               Twin Room\n",
       "175540               Twin Room\n",
       "175541               Twin Room\n",
       "175542           Twin Standard\n",
       "175543         Double Standard\n",
       "Name: roomtype, Length: 160438, dtype: object"
      ]
     },
     "execution_count": 35,
     "metadata": {},
     "output_type": "execute_result"
    }
   ],
   "source": [
    "df['roomtype']"
   ]
  },
  {
   "cell_type": "code",
   "execution_count": 36,
   "metadata": {},
   "outputs": [],
   "source": [
    "df['roomtype_tag'] = df['roomtype'].apply(remove_whitespace)"
   ]
  },
  {
   "cell_type": "code",
   "execution_count": 37,
   "metadata": {},
   "outputs": [],
   "source": [
    "df['roomtype_tag'] =  df['roomtype_tag'].apply(lambda x:[x])"
   ]
  },
  {
   "cell_type": "code",
   "execution_count": 38,
   "metadata": {},
   "outputs": [
    {
     "data": {
      "text/plain": [
       "['DoubleStandard']"
      ]
     },
     "execution_count": 38,
     "metadata": {},
     "output_type": "execute_result"
    }
   ],
   "source": [
    "df['roomtype_tag'][66071]"
   ]
  },
  {
   "cell_type": "code",
   "execution_count": 39,
   "metadata": {},
   "outputs": [
    {
     "data": {
      "text/plain": [
       "0              Room size: 15 m²/161 ft², Shower, 1 king bed\n",
       "1           Room size: 20 m²/215 ft², Shower, 3 single beds\n",
       "2           Room size: 20 m²/215 ft², Shower, 3 single beds\n",
       "3           Room size: 20 m²/215 ft², Shower, 3 single beds\n",
       "4                     Shower, 1 single bed and 1 double bed\n",
       "                                ...                        \n",
       "175539    Room size: 17 m²/183 ft², Non-smoking, Shower,...\n",
       "175540    Room size: 17 m²/183 ft², Non-smoking, Shower,...\n",
       "175541    Room size: 17 m²/183 ft², Non-smoking, Shower,...\n",
       "175542    Pay nothing until November 21, 2019, Free Wi-F...\n",
       "175543    Pay nothing until November 21, 2019, Free Wi-F...\n",
       "Name: ratedescription, Length: 160438, dtype: object"
      ]
     },
     "execution_count": 39,
     "metadata": {},
     "output_type": "execute_result"
    }
   ],
   "source": [
    "df['ratedescription']"
   ]
  },
  {
   "cell_type": "code",
   "execution_count": 40,
   "metadata": {},
   "outputs": [],
   "source": [
    "import re\n",
    "\n",
    "def transform(text):\n",
    "    return re.sub(r'Room size: \\d+ m²/\\d+ ft², ','',text)"
   ]
  },
  {
   "cell_type": "code",
   "execution_count": 41,
   "metadata": {},
   "outputs": [],
   "source": [
    "df['ratedescription_tag'] = df['ratedescription'].apply(transform)"
   ]
  },
  {
   "cell_type": "code",
   "execution_count": 42,
   "metadata": {},
   "outputs": [],
   "source": [
    "df['ratedescription_tag'] = df['ratedescription_tag'].apply(remove_whitespace)"
   ]
  },
  {
   "cell_type": "code",
   "execution_count": 43,
   "metadata": {},
   "outputs": [],
   "source": [
    "df['ratedescription_tag'] = df['ratedescription_tag'].apply(lambda x:x.split(','))"
   ]
  },
  {
   "cell_type": "code",
   "execution_count": 44,
   "metadata": {},
   "outputs": [
    {
     "data": {
      "text/plain": [
       "8435"
      ]
     },
     "execution_count": 44,
     "metadata": {},
     "output_type": "execute_result"
    }
   ],
   "source": [
    "df['address'].nunique()"
   ]
  },
  {
   "cell_type": "code",
   "execution_count": 45,
   "metadata": {},
   "outputs": [],
   "source": [
    "df['address_tag'] = df['address'].apply(remove_whitespace)\n"
   ]
  },
  {
   "cell_type": "code",
   "execution_count": 46,
   "metadata": {},
   "outputs": [],
   "source": [
    "df['address_tag'] = df['address_tag'].apply(lambda x:x.split())"
   ]
  },
  {
   "cell_type": "code",
   "execution_count": 47,
   "metadata": {},
   "outputs": [],
   "source": [
    "df['city_tag'] = df['city'].apply(remove_whitespace)\n"
   ]
  },
  {
   "cell_type": "code",
   "execution_count": 48,
   "metadata": {},
   "outputs": [],
   "source": [
    "df['city_tag'] = df['city_tag'].apply(lambda x:x.split())\n"
   ]
  },
  {
   "cell_type": "code",
   "execution_count": 49,
   "metadata": {},
   "outputs": [
    {
     "data": {
      "text/plain": [
       "0                [NetherStowey]\n",
       "1                      [London]\n",
       "2                      [London]\n",
       "3                      [London]\n",
       "4                      [London]\n",
       "                  ...          \n",
       "175539    [Newcastle-upon-Tyne]\n",
       "175540    [Newcastle-upon-Tyne]\n",
       "175541    [Newcastle-upon-Tyne]\n",
       "175542    [Newcastle-upon-Tyne]\n",
       "175543    [Newcastle-upon-Tyne]\n",
       "Name: city_tag, Length: 160438, dtype: object"
      ]
     },
     "execution_count": 49,
     "metadata": {},
     "output_type": "execute_result"
    }
   ],
   "source": [
    "df['city_tag']"
   ]
  },
  {
   "cell_type": "code",
   "execution_count": 50,
   "metadata": {},
   "outputs": [],
   "source": [
    "df['country_tag'] = df['country'].apply(remove_whitespace)\n"
   ]
  },
  {
   "cell_type": "code",
   "execution_count": 51,
   "metadata": {},
   "outputs": [],
   "source": [
    "df['country_tag'] = df['country_tag'].apply(lambda x:x.split())\n"
   ]
  },
  {
   "cell_type": "code",
   "execution_count": 52,
   "metadata": {},
   "outputs": [
    {
     "data": {
      "text/plain": [
       "0         [UnitedKingdom]\n",
       "1         [UnitedKingdom]\n",
       "2         [UnitedKingdom]\n",
       "3         [UnitedKingdom]\n",
       "4         [UnitedKingdom]\n",
       "               ...       \n",
       "175539    [UnitedKingdom]\n",
       "175540    [UnitedKingdom]\n",
       "175541    [UnitedKingdom]\n",
       "175542    [UnitedKingdom]\n",
       "175543    [UnitedKingdom]\n",
       "Name: country_tag, Length: 160438, dtype: object"
      ]
     },
     "execution_count": 52,
     "metadata": {},
     "output_type": "execute_result"
    }
   ],
   "source": [
    "df['country_tag'] "
   ]
  },
  {
   "cell_type": "code",
   "execution_count": 53,
   "metadata": {},
   "outputs": [],
   "source": [
    "df['propertytype_tag'] = df['propertytype'].apply(remove_whitespace)\n"
   ]
  },
  {
   "cell_type": "code",
   "execution_count": 54,
   "metadata": {},
   "outputs": [],
   "source": [
    "df['propertytype_tag'] = df['propertytype_tag'].apply(lambda x:x.split())\n"
   ]
  },
  {
   "cell_type": "code",
   "execution_count": 55,
   "metadata": {},
   "outputs": [
    {
     "data": {
      "text/html": [
       "<div>\n",
       "<style scoped>\n",
       "    .dataframe tbody tr th:only-of-type {\n",
       "        vertical-align: middle;\n",
       "    }\n",
       "\n",
       "    .dataframe tbody tr th {\n",
       "        vertical-align: top;\n",
       "    }\n",
       "\n",
       "    .dataframe thead th {\n",
       "        text-align: right;\n",
       "    }\n",
       "</style>\n",
       "<table border=\"1\" class=\"dataframe\">\n",
       "  <thead>\n",
       "    <tr style=\"text-align: right;\">\n",
       "      <th></th>\n",
       "      <th>id</th>\n",
       "      <th>hotelid</th>\n",
       "      <th>roomamenities</th>\n",
       "      <th>roomtype</th>\n",
       "      <th>ratedescription</th>\n",
       "      <th>hotelname</th>\n",
       "      <th>address</th>\n",
       "      <th>city</th>\n",
       "      <th>country</th>\n",
       "      <th>propertytype</th>\n",
       "      <th>starrating</th>\n",
       "      <th>url</th>\n",
       "      <th>min</th>\n",
       "      <th>max</th>\n",
       "      <th>Diff_Min</th>\n",
       "      <th>Diff_Max</th>\n",
       "      <th>Score</th>\n",
       "      <th>roomamenities_tag</th>\n",
       "      <th>roomtype_tag</th>\n",
       "      <th>ratedescription_tag</th>\n",
       "      <th>address_tag</th>\n",
       "      <th>city_tag</th>\n",
       "      <th>country_tag</th>\n",
       "      <th>propertytype_tag</th>\n",
       "    </tr>\n",
       "  </thead>\n",
       "  <tbody>\n",
       "    <tr>\n",
       "      <th>0</th>\n",
       "      <td>50677497</td>\n",
       "      <td>634876</td>\n",
       "      <td>Air conditioning: ;Alarm clock: ;Carpeting: ;C...</td>\n",
       "      <td>Double Room</td>\n",
       "      <td>Room size: 15 m²/161 ft², Shower, 1 king bed</td>\n",
       "      <td>The Old Cider House</td>\n",
       "      <td>25 Castle Street</td>\n",
       "      <td>Nether Stowey</td>\n",
       "      <td>United Kingdom</td>\n",
       "      <td>Hotels</td>\n",
       "      <td>4</td>\n",
       "      <td>https://www.agoda.com/en-gb/the-old-cider-hous...</td>\n",
       "      <td>82.36</td>\n",
       "      <td>107.70</td>\n",
       "      <td>0.084</td>\n",
       "      <td>0.418</td>\n",
       "      <td>0.25</td>\n",
       "      <td>[Airconditioning, Alarmclock, Carpeting, Close...</td>\n",
       "      <td>[DoubleRoom]</td>\n",
       "      <td>[Shower, 1kingbed]</td>\n",
       "      <td>[25CastleStreet]</td>\n",
       "      <td>[NetherStowey]</td>\n",
       "      <td>[UnitedKingdom]</td>\n",
       "      <td>[Hotels]</td>\n",
       "    </tr>\n",
       "    <tr>\n",
       "      <th>1</th>\n",
       "      <td>50650317</td>\n",
       "      <td>7975</td>\n",
       "      <td>Air conditioning: ;Clothes rack: ;Coffee/tea m...</td>\n",
       "      <td>Standard Triple Room</td>\n",
       "      <td>Room size: 20 m²/215 ft², Shower, 3 single beds</td>\n",
       "      <td>Apollo Hotel London</td>\n",
       "      <td>64-66 Queensborough Terrace</td>\n",
       "      <td>London</td>\n",
       "      <td>United Kingdom</td>\n",
       "      <td>Hotels</td>\n",
       "      <td>2</td>\n",
       "      <td>https://www.agoda.com/en-gb/apollo-hotel-londo...</td>\n",
       "      <td>881.48</td>\n",
       "      <td>1055.92</td>\n",
       "      <td>7.540</td>\n",
       "      <td>2.821</td>\n",
       "      <td>5.18</td>\n",
       "      <td>[Airconditioning, Clothesrack, Coffee/teamaker...</td>\n",
       "      <td>[StandardTripleRoom]</td>\n",
       "      <td>[Shower, 3singlebeds]</td>\n",
       "      <td>[64-66QueensboroughTerrace]</td>\n",
       "      <td>[London]</td>\n",
       "      <td>[UnitedKingdom]</td>\n",
       "      <td>[Hotels]</td>\n",
       "    </tr>\n",
       "    <tr>\n",
       "      <th>2</th>\n",
       "      <td>50650318</td>\n",
       "      <td>7975</td>\n",
       "      <td>Air conditioning: ;Clothes rack: ;Coffee/tea m...</td>\n",
       "      <td>Standard Triple Room</td>\n",
       "      <td>Room size: 20 m²/215 ft², Shower, 3 single beds</td>\n",
       "      <td>Apollo Hotel London</td>\n",
       "      <td>64-66 Queensborough Terrace</td>\n",
       "      <td>London</td>\n",
       "      <td>United Kingdom</td>\n",
       "      <td>Hotels</td>\n",
       "      <td>2</td>\n",
       "      <td>https://www.agoda.com/en-gb/apollo-hotel-londo...</td>\n",
       "      <td>881.48</td>\n",
       "      <td>1055.92</td>\n",
       "      <td>7.540</td>\n",
       "      <td>2.821</td>\n",
       "      <td>5.18</td>\n",
       "      <td>[Airconditioning, Clothesrack, Coffee/teamaker...</td>\n",
       "      <td>[StandardTripleRoom]</td>\n",
       "      <td>[Shower, 3singlebeds]</td>\n",
       "      <td>[64-66QueensboroughTerrace]</td>\n",
       "      <td>[London]</td>\n",
       "      <td>[UnitedKingdom]</td>\n",
       "      <td>[Hotels]</td>\n",
       "    </tr>\n",
       "    <tr>\n",
       "      <th>3</th>\n",
       "      <td>50650319</td>\n",
       "      <td>7975</td>\n",
       "      <td>Air conditioning: ;Clothes rack: ;Coffee/tea m...</td>\n",
       "      <td>Standard Triple Room</td>\n",
       "      <td>Room size: 20 m²/215 ft², Shower, 3 single beds</td>\n",
       "      <td>Apollo Hotel London</td>\n",
       "      <td>64-66 Queensborough Terrace</td>\n",
       "      <td>London</td>\n",
       "      <td>United Kingdom</td>\n",
       "      <td>Hotels</td>\n",
       "      <td>2</td>\n",
       "      <td>https://www.agoda.com/en-gb/apollo-hotel-londo...</td>\n",
       "      <td>881.48</td>\n",
       "      <td>1055.92</td>\n",
       "      <td>7.540</td>\n",
       "      <td>2.821</td>\n",
       "      <td>5.18</td>\n",
       "      <td>[Airconditioning, Clothesrack, Coffee/teamaker...</td>\n",
       "      <td>[StandardTripleRoom]</td>\n",
       "      <td>[Shower, 3singlebeds]</td>\n",
       "      <td>[64-66QueensboroughTerrace]</td>\n",
       "      <td>[London]</td>\n",
       "      <td>[UnitedKingdom]</td>\n",
       "      <td>[Hotels]</td>\n",
       "    </tr>\n",
       "    <tr>\n",
       "      <th>4</th>\n",
       "      <td>50650320</td>\n",
       "      <td>7975</td>\n",
       "      <td>Air conditioning: ;Clothes rack: ;Heating: ;In...</td>\n",
       "      <td>Deluxe Triple Room</td>\n",
       "      <td>Shower, 1 single bed and 1 double bed</td>\n",
       "      <td>Apollo Hotel London</td>\n",
       "      <td>64-66 Queensborough Terrace</td>\n",
       "      <td>London</td>\n",
       "      <td>United Kingdom</td>\n",
       "      <td>Hotels</td>\n",
       "      <td>2</td>\n",
       "      <td>https://www.agoda.com/en-gb/apollo-hotel-londo...</td>\n",
       "      <td>881.48</td>\n",
       "      <td>1055.92</td>\n",
       "      <td>7.540</td>\n",
       "      <td>2.821</td>\n",
       "      <td>5.18</td>\n",
       "      <td>[Airconditioning, Clothesrack, Heating, In-roo...</td>\n",
       "      <td>[DeluxeTripleRoom]</td>\n",
       "      <td>[Shower, 1singlebedand1doublebed]</td>\n",
       "      <td>[64-66QueensboroughTerrace]</td>\n",
       "      <td>[London]</td>\n",
       "      <td>[UnitedKingdom]</td>\n",
       "      <td>[Hotels]</td>\n",
       "    </tr>\n",
       "  </tbody>\n",
       "</table>\n",
       "</div>"
      ],
      "text/plain": [
       "         id  hotelid                                      roomamenities  \\\n",
       "0  50677497   634876  Air conditioning: ;Alarm clock: ;Carpeting: ;C...   \n",
       "1  50650317     7975  Air conditioning: ;Clothes rack: ;Coffee/tea m...   \n",
       "2  50650318     7975  Air conditioning: ;Clothes rack: ;Coffee/tea m...   \n",
       "3  50650319     7975  Air conditioning: ;Clothes rack: ;Coffee/tea m...   \n",
       "4  50650320     7975  Air conditioning: ;Clothes rack: ;Heating: ;In...   \n",
       "\n",
       "               roomtype                                  ratedescription  \\\n",
       "0           Double Room     Room size: 15 m²/161 ft², Shower, 1 king bed   \n",
       "1  Standard Triple Room  Room size: 20 m²/215 ft², Shower, 3 single beds   \n",
       "2  Standard Triple Room  Room size: 20 m²/215 ft², Shower, 3 single beds   \n",
       "3  Standard Triple Room  Room size: 20 m²/215 ft², Shower, 3 single beds   \n",
       "4    Deluxe Triple Room            Shower, 1 single bed and 1 double bed   \n",
       "\n",
       "             hotelname                      address           city  \\\n",
       "0  The Old Cider House             25 Castle Street  Nether Stowey   \n",
       "1  Apollo Hotel London  64-66 Queensborough Terrace         London   \n",
       "2  Apollo Hotel London  64-66 Queensborough Terrace         London   \n",
       "3  Apollo Hotel London  64-66 Queensborough Terrace         London   \n",
       "4  Apollo Hotel London  64-66 Queensborough Terrace         London   \n",
       "\n",
       "          country propertytype  starrating  \\\n",
       "0  United Kingdom       Hotels           4   \n",
       "1  United Kingdom       Hotels           2   \n",
       "2  United Kingdom       Hotels           2   \n",
       "3  United Kingdom       Hotels           2   \n",
       "4  United Kingdom       Hotels           2   \n",
       "\n",
       "                                                 url     min      max  \\\n",
       "0  https://www.agoda.com/en-gb/the-old-cider-hous...   82.36   107.70   \n",
       "1  https://www.agoda.com/en-gb/apollo-hotel-londo...  881.48  1055.92   \n",
       "2  https://www.agoda.com/en-gb/apollo-hotel-londo...  881.48  1055.92   \n",
       "3  https://www.agoda.com/en-gb/apollo-hotel-londo...  881.48  1055.92   \n",
       "4  https://www.agoda.com/en-gb/apollo-hotel-londo...  881.48  1055.92   \n",
       "\n",
       "   Diff_Min  Diff_Max  Score  \\\n",
       "0     0.084     0.418   0.25   \n",
       "1     7.540     2.821   5.18   \n",
       "2     7.540     2.821   5.18   \n",
       "3     7.540     2.821   5.18   \n",
       "4     7.540     2.821   5.18   \n",
       "\n",
       "                                   roomamenities_tag          roomtype_tag  \\\n",
       "0  [Airconditioning, Alarmclock, Carpeting, Close...          [DoubleRoom]   \n",
       "1  [Airconditioning, Clothesrack, Coffee/teamaker...  [StandardTripleRoom]   \n",
       "2  [Airconditioning, Clothesrack, Coffee/teamaker...  [StandardTripleRoom]   \n",
       "3  [Airconditioning, Clothesrack, Coffee/teamaker...  [StandardTripleRoom]   \n",
       "4  [Airconditioning, Clothesrack, Heating, In-roo...    [DeluxeTripleRoom]   \n",
       "\n",
       "                 ratedescription_tag                  address_tag  \\\n",
       "0                 [Shower, 1kingbed]             [25CastleStreet]   \n",
       "1              [Shower, 3singlebeds]  [64-66QueensboroughTerrace]   \n",
       "2              [Shower, 3singlebeds]  [64-66QueensboroughTerrace]   \n",
       "3              [Shower, 3singlebeds]  [64-66QueensboroughTerrace]   \n",
       "4  [Shower, 1singlebedand1doublebed]  [64-66QueensboroughTerrace]   \n",
       "\n",
       "         city_tag      country_tag propertytype_tag  \n",
       "0  [NetherStowey]  [UnitedKingdom]         [Hotels]  \n",
       "1        [London]  [UnitedKingdom]         [Hotels]  \n",
       "2        [London]  [UnitedKingdom]         [Hotels]  \n",
       "3        [London]  [UnitedKingdom]         [Hotels]  \n",
       "4        [London]  [UnitedKingdom]         [Hotels]  "
      ]
     },
     "execution_count": 55,
     "metadata": {},
     "output_type": "execute_result"
    }
   ],
   "source": [
    "df.head()"
   ]
  },
  {
   "cell_type": "code",
   "execution_count": null,
   "metadata": {},
   "outputs": [],
   "source": [
    "# Creating tags for each room of the hotels as a list of keywords which will serve as the basis for the recommendation system"
   ]
  },
  {
   "cell_type": "code",
   "execution_count": 56,
   "metadata": {},
   "outputs": [],
   "source": [
    "df['tags'] = df['roomamenities_tag'] + df['roomtype_tag'] + df['ratedescription_tag'] + df['address_tag'] + df['city_tag'] + df['country_tag'] + df['propertytype_tag']\n"
   ]
  },
  {
   "cell_type": "code",
   "execution_count": 57,
   "metadata": {},
   "outputs": [],
   "source": [
    "df['tags'] = df['tags'].apply(lambda x:\" \".join(x))"
   ]
  },
  {
   "cell_type": "code",
   "execution_count": 58,
   "metadata": {},
   "outputs": [],
   "source": [
    "df_final = df[['hotelname','tags','starrating','roomtype','country','city','propertytype']]\n"
   ]
  },
  {
   "cell_type": "code",
   "execution_count": 59,
   "metadata": {},
   "outputs": [
    {
     "data": {
      "text/plain": [
       "117114"
      ]
     },
     "execution_count": 59,
     "metadata": {},
     "output_type": "execute_result"
    }
   ],
   "source": [
    "df_final.duplicated().sum()"
   ]
  },
  {
   "cell_type": "code",
   "execution_count": 60,
   "metadata": {},
   "outputs": [
    {
     "name": "stderr",
     "output_type": "stream",
     "text": [
      "C:\\Users\\SAHIL\\AppData\\Local\\Temp\\ipykernel_3884\\3496236793.py:1: SettingWithCopyWarning: \n",
      "A value is trying to be set on a copy of a slice from a DataFrame\n",
      "\n",
      "See the caveats in the documentation: https://pandas.pydata.org/pandas-docs/stable/user_guide/indexing.html#returning-a-view-versus-a-copy\n",
      "  df_final.drop_duplicates(inplace = True)\n"
     ]
    }
   ],
   "source": [
    "df_final.drop_duplicates(inplace = True)"
   ]
  },
  {
   "cell_type": "code",
   "execution_count": 61,
   "metadata": {},
   "outputs": [
    {
     "data": {
      "text/plain": [
       "hotelname       0\n",
       "tags            0\n",
       "starrating      0\n",
       "roomtype        0\n",
       "country         0\n",
       "city            0\n",
       "propertytype    0\n",
       "dtype: int64"
      ]
     },
     "execution_count": 61,
     "metadata": {},
     "output_type": "execute_result"
    }
   ],
   "source": [
    "df_final.isna().sum()"
   ]
  },
  {
   "cell_type": "code",
   "execution_count": 62,
   "metadata": {},
   "outputs": [],
   "source": [
    "df_final.reset_index(inplace = True)"
   ]
  },
  {
   "cell_type": "code",
   "execution_count": 73,
   "metadata": {},
   "outputs": [
    {
     "data": {
      "text/html": [
       "<div>\n",
       "<style scoped>\n",
       "    .dataframe tbody tr th:only-of-type {\n",
       "        vertical-align: middle;\n",
       "    }\n",
       "\n",
       "    .dataframe tbody tr th {\n",
       "        vertical-align: top;\n",
       "    }\n",
       "\n",
       "    .dataframe thead th {\n",
       "        text-align: right;\n",
       "    }\n",
       "</style>\n",
       "<table border=\"1\" class=\"dataframe\">\n",
       "  <thead>\n",
       "    <tr style=\"text-align: right;\">\n",
       "      <th></th>\n",
       "      <th>index</th>\n",
       "      <th>hotelname</th>\n",
       "      <th>tags</th>\n",
       "      <th>starrating</th>\n",
       "      <th>roomtype</th>\n",
       "      <th>country</th>\n",
       "      <th>city</th>\n",
       "      <th>propertytype</th>\n",
       "    </tr>\n",
       "  </thead>\n",
       "  <tbody>\n",
       "    <tr>\n",
       "      <th>0</th>\n",
       "      <td>0</td>\n",
       "      <td>The Old Cider House</td>\n",
       "      <td>Airconditioning Alarmclock Carpeting Closet Co...</td>\n",
       "      <td>4</td>\n",
       "      <td>Double Room</td>\n",
       "      <td>United Kingdom</td>\n",
       "      <td>Nether Stowey</td>\n",
       "      <td>Hotels</td>\n",
       "    </tr>\n",
       "    <tr>\n",
       "      <th>1</th>\n",
       "      <td>1</td>\n",
       "      <td>Apollo Hotel London</td>\n",
       "      <td>Airconditioning Clothesrack Coffee/teamaker Da...</td>\n",
       "      <td>2</td>\n",
       "      <td>Standard Triple Room</td>\n",
       "      <td>United Kingdom</td>\n",
       "      <td>London</td>\n",
       "      <td>Hotels</td>\n",
       "    </tr>\n",
       "    <tr>\n",
       "      <th>2</th>\n",
       "      <td>4</td>\n",
       "      <td>Apollo Hotel London</td>\n",
       "      <td>Airconditioning Clothesrack Heating In-roomsaf...</td>\n",
       "      <td>2</td>\n",
       "      <td>Deluxe Triple Room</td>\n",
       "      <td>United Kingdom</td>\n",
       "      <td>London</td>\n",
       "      <td>Hotels</td>\n",
       "    </tr>\n",
       "    <tr>\n",
       "      <th>3</th>\n",
       "      <td>7</td>\n",
       "      <td>The Old Cider House</td>\n",
       "      <td>Airconditioning Alarmclock Carpeting Closet Co...</td>\n",
       "      <td>4</td>\n",
       "      <td>Deluxe Double Room with Shower</td>\n",
       "      <td>United Kingdom</td>\n",
       "      <td>Nether Stowey</td>\n",
       "      <td>Hotels</td>\n",
       "    </tr>\n",
       "    <tr>\n",
       "      <th>4</th>\n",
       "      <td>8</td>\n",
       "      <td>Hotel Rivoli</td>\n",
       "      <td>Airconditioning Closet Dailyhousekeeping Desk ...</td>\n",
       "      <td>3</td>\n",
       "      <td>Single Room</td>\n",
       "      <td>Germany</td>\n",
       "      <td>Munich</td>\n",
       "      <td>Hotels</td>\n",
       "    </tr>\n",
       "    <tr>\n",
       "      <th>5</th>\n",
       "      <td>10</td>\n",
       "      <td>Timhotel Tour Eiffel</td>\n",
       "      <td>Airconditioning Alarmclock Bathrobes Carpeting...</td>\n",
       "      <td>3</td>\n",
       "      <td>Comfort Single Room</td>\n",
       "      <td>France</td>\n",
       "      <td>Paris</td>\n",
       "      <td>Hotels</td>\n",
       "    </tr>\n",
       "    <tr>\n",
       "      <th>6</th>\n",
       "      <td>14</td>\n",
       "      <td>Timhotel Tour Eiffel</td>\n",
       "      <td>Airconditioning Alarmclock Bathrobes Carpeting...</td>\n",
       "      <td>3</td>\n",
       "      <td>Comfort Twin Room</td>\n",
       "      <td>France</td>\n",
       "      <td>Paris</td>\n",
       "      <td>Hotels</td>\n",
       "    </tr>\n",
       "    <tr>\n",
       "      <th>7</th>\n",
       "      <td>15</td>\n",
       "      <td>Hotel Rivoli</td>\n",
       "      <td>Airconditioning FreeWi-Fiinallrooms! In-roomsa...</td>\n",
       "      <td>3</td>\n",
       "      <td>Double Room</td>\n",
       "      <td>Germany</td>\n",
       "      <td>Munich</td>\n",
       "      <td>Hotels</td>\n",
       "    </tr>\n",
       "    <tr>\n",
       "      <th>8</th>\n",
       "      <td>16</td>\n",
       "      <td>AC Hotel Manchester Salford Quays</td>\n",
       "      <td>Airconditioning Closet Coffee/teamaker Desk Fr...</td>\n",
       "      <td>4</td>\n",
       "      <td>Deluxe, Guest room, 1 Double</td>\n",
       "      <td>United Kingdom</td>\n",
       "      <td>Manchester</td>\n",
       "      <td>Hotels</td>\n",
       "    </tr>\n",
       "    <tr>\n",
       "      <th>9</th>\n",
       "      <td>17</td>\n",
       "      <td>Hotel Paris Villette</td>\n",
       "      <td>Airconditioning FreeWi-Fiinallrooms! In-roomsa...</td>\n",
       "      <td>3</td>\n",
       "      <td>full size bed (1 big bed)</td>\n",
       "      <td>France</td>\n",
       "      <td>Paris</td>\n",
       "      <td>Hotels</td>\n",
       "    </tr>\n",
       "    <tr>\n",
       "      <th>10</th>\n",
       "      <td>19</td>\n",
       "      <td>Hotel Paris Villette</td>\n",
       "      <td>Airconditioning FreeWi-Fiinallrooms! In-roomsa...</td>\n",
       "      <td>3</td>\n",
       "      <td>Twin (2 beds)</td>\n",
       "      <td>France</td>\n",
       "      <td>Paris</td>\n",
       "      <td>Hotels</td>\n",
       "    </tr>\n",
       "    <tr>\n",
       "      <th>11</th>\n",
       "      <td>21</td>\n",
       "      <td>Hotel Paris Villette</td>\n",
       "      <td>Airconditioning Closet Clothesrack Desk FreeWi...</td>\n",
       "      <td>3</td>\n",
       "      <td>Double Room For Single Or Double Occupancy</td>\n",
       "      <td>France</td>\n",
       "      <td>Paris</td>\n",
       "      <td>Hotels</td>\n",
       "    </tr>\n",
       "    <tr>\n",
       "      <th>12</th>\n",
       "      <td>24</td>\n",
       "      <td>AC Hotel Manchester Salford Quays</td>\n",
       "      <td>Airconditioning FreeWi-Fiinallrooms! In-roomsa...</td>\n",
       "      <td>4</td>\n",
       "      <td>Deluxe Twin Room</td>\n",
       "      <td>United Kingdom</td>\n",
       "      <td>Manchester</td>\n",
       "      <td>Hotels</td>\n",
       "    </tr>\n",
       "  </tbody>\n",
       "</table>\n",
       "</div>"
      ],
      "text/plain": [
       "    index                          hotelname  \\\n",
       "0       0                The Old Cider House   \n",
       "1       1                Apollo Hotel London   \n",
       "2       4                Apollo Hotel London   \n",
       "3       7                The Old Cider House   \n",
       "4       8                       Hotel Rivoli   \n",
       "5      10               Timhotel Tour Eiffel   \n",
       "6      14               Timhotel Tour Eiffel   \n",
       "7      15                       Hotel Rivoli   \n",
       "8      16  AC Hotel Manchester Salford Quays   \n",
       "9      17               Hotel Paris Villette   \n",
       "10     19               Hotel Paris Villette   \n",
       "11     21               Hotel Paris Villette   \n",
       "12     24  AC Hotel Manchester Salford Quays   \n",
       "\n",
       "                                                 tags  starrating  \\\n",
       "0   Airconditioning Alarmclock Carpeting Closet Co...           4   \n",
       "1   Airconditioning Clothesrack Coffee/teamaker Da...           2   \n",
       "2   Airconditioning Clothesrack Heating In-roomsaf...           2   \n",
       "3   Airconditioning Alarmclock Carpeting Closet Co...           4   \n",
       "4   Airconditioning Closet Dailyhousekeeping Desk ...           3   \n",
       "5   Airconditioning Alarmclock Bathrobes Carpeting...           3   \n",
       "6   Airconditioning Alarmclock Bathrobes Carpeting...           3   \n",
       "7   Airconditioning FreeWi-Fiinallrooms! In-roomsa...           3   \n",
       "8   Airconditioning Closet Coffee/teamaker Desk Fr...           4   \n",
       "9   Airconditioning FreeWi-Fiinallrooms! In-roomsa...           3   \n",
       "10  Airconditioning FreeWi-Fiinallrooms! In-roomsa...           3   \n",
       "11  Airconditioning Closet Clothesrack Desk FreeWi...           3   \n",
       "12  Airconditioning FreeWi-Fiinallrooms! In-roomsa...           4   \n",
       "\n",
       "                                      roomtype         country           city  \\\n",
       "0                                  Double Room  United Kingdom  Nether Stowey   \n",
       "1                         Standard Triple Room  United Kingdom         London   \n",
       "2                           Deluxe Triple Room  United Kingdom         London   \n",
       "3               Deluxe Double Room with Shower  United Kingdom  Nether Stowey   \n",
       "4                                  Single Room         Germany         Munich   \n",
       "5                          Comfort Single Room          France          Paris   \n",
       "6                            Comfort Twin Room          France          Paris   \n",
       "7                                  Double Room         Germany         Munich   \n",
       "8                 Deluxe, Guest room, 1 Double  United Kingdom     Manchester   \n",
       "9                    full size bed (1 big bed)          France          Paris   \n",
       "10                               Twin (2 beds)          France          Paris   \n",
       "11  Double Room For Single Or Double Occupancy          France          Paris   \n",
       "12                            Deluxe Twin Room  United Kingdom     Manchester   \n",
       "\n",
       "   propertytype  \n",
       "0        Hotels  \n",
       "1        Hotels  \n",
       "2        Hotels  \n",
       "3        Hotels  \n",
       "4        Hotels  \n",
       "5        Hotels  \n",
       "6        Hotels  \n",
       "7        Hotels  \n",
       "8        Hotels  \n",
       "9        Hotels  \n",
       "10       Hotels  \n",
       "11       Hotels  \n",
       "12       Hotels  "
      ]
     },
     "execution_count": 73,
     "metadata": {},
     "output_type": "execute_result"
    }
   ],
   "source": [
    "df_final.head(13)"
   ]
  },
  {
   "cell_type": "code",
   "execution_count": 64,
   "metadata": {},
   "outputs": [],
   "source": [
    "from sklearn.feature_extraction.text import TfidfVectorizer\n",
    "tfidf = TfidfVectorizer(max_features=1000)\n"
   ]
  },
  {
   "cell_type": "code",
   "execution_count": 65,
   "metadata": {},
   "outputs": [],
   "source": [
    "from sklearn.metrics.pairwise import cosine_similarity"
   ]
  },
  {
   "cell_type": "code",
   "execution_count": 66,
   "metadata": {},
   "outputs": [],
   "source": [
    "def recommend(type,country,city,property):\n",
    "    \n",
    "    ## filtering the dataframe to the requirements of the user\n",
    "    filtered_df = df_final[\n",
    "        (df_final['roomtype'] == type) &\n",
    "        (df_final['country'] == country) &\n",
    "        (df_final['city'] == city) &\n",
    "        (df_final['propertytype'] == property)\n",
    "    ]\n",
    "\n",
    "    ## creating a temporary dataframe so that we recommend hotels only from the speicified country and city rather than using the entire df which\n",
    "    ## could lead to results from different cities and countries\n",
    "    temp = df_final[\n",
    "        (df_final['country'] == country) &\n",
    "        (df_final['city'] == city) \n",
    "    ]\n",
    "\n",
    "    ## indices of the hotels of user requirements\n",
    "    idx1 = filtered_df['index'].tolist()\n",
    "\n",
    "    ## reseting index because we need to search for the indices in idx1 in temp\n",
    "    temp.reset_index(inplace = True)\n",
    "\n",
    "    ## extracting the index(of the dataframe) of the specified hotels \n",
    "    idx2 = temp[temp['index'].isin(idx1)].index.tolist()\n",
    "    \n",
    "    ## creating similarity matrix\n",
    "    vector = tfidf.fit_transform(temp['tags']).toarray()\n",
    "    similarity = cosine_similarity(vector)\n",
    "    \n",
    "    ## traverse each user specified hotel and extract top recommend hotels for each specified hotel\n",
    "    for i in idx2:\n",
    "        similar_hotels = sorted(list(enumerate(similarity[i])),key = lambda x:x[1],reverse = True)[0:5]\n",
    "        for hotel in similar_hotels:\n",
    "            print(tuple(temp.loc[hotel[0]][['hotelname','roomtype']]))"
   ]
  },
  {
   "cell_type": "code",
   "execution_count": 97,
   "metadata": {},
   "outputs": [
    {
     "name": "stdout",
     "output_type": "stream",
     "text": [
      "('Hotel Mons am Goetheplatz', 'Comfort Single Room')\n",
      "('Hotel Mons am Goetheplatz', 'Standard Single Room')\n",
      "('Hotel Mons am Goetheplatz', 'Comfort Double Room')\n",
      "('Hotel Mons am Goetheplatz', 'Single Room with Shared Bathroom')\n",
      "('Hotel Mons am Goetheplatz', 'Standard Double Room')\n",
      "('Hotel Freisinger Hof', 'Comfort Single Room')\n",
      "('Hotel Freisinger Hof', 'Superior Single Room')\n",
      "('Hotel Freisinger Hof', 'Classic Single Room - Annex')\n",
      "('Hotel Freisinger Hof', 'Comfort Double Room')\n",
      "('Hotel Freisinger Hof', 'Suite')\n",
      "('Hotel am Schlosspark Zum Kurfurst', 'Comfort Single Room')\n",
      "('Hotel am Schlosspark Zum Kurfurst', 'Superior Double Room')\n",
      "('Hotel am Schlosspark Zum Kurfurst', 'Comfort Double Room')\n",
      "('Hotel Freisinger Hof', 'Comfort Single Room')\n",
      "('Hotel Freisinger Hof', 'Superior Single Room')\n"
     ]
    }
   ],
   "source": [
    "recommend('Comfort Single Room','Germany','Munich','Hotels')"
   ]
  },
  {
   "cell_type": "code",
   "execution_count": null,
   "metadata": {},
   "outputs": [],
   "source": []
  }
 ],
 "metadata": {
  "kernelspec": {
   "display_name": "base",
   "language": "python",
   "name": "python3"
  },
  "language_info": {
   "codemirror_mode": {
    "name": "ipython",
    "version": 3
   },
   "file_extension": ".py",
   "mimetype": "text/x-python",
   "name": "python",
   "nbconvert_exporter": "python",
   "pygments_lexer": "ipython3",
   "version": "3.10.14"
  }
 },
 "nbformat": 4,
 "nbformat_minor": 2
}
